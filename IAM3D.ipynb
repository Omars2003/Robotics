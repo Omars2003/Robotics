{
  "nbformat": 4,
  "nbformat_minor": 0,
  "metadata": {
    "colab": {
      "provenance": [],
      "authorship_tag": "ABX9TyMNnPvxKtCNPb/jCbIJ3bYA",
      "include_colab_link": true
    },
    "kernelspec": {
      "name": "python3",
      "display_name": "Python 3"
    },
    "language_info": {
      "name": "python"
    }
  },
  "cells": [
    {
      "cell_type": "markdown",
      "metadata": {
        "id": "view-in-github",
        "colab_type": "text"
      },
      "source": [
        "<a href=\"https://colab.research.google.com/github/Omars2003/Robotics/blob/Robotics/IAM3D.ipynb\" target=\"_parent\"><img src=\"https://colab.research.google.com/assets/colab-badge.svg\" alt=\"Open In Colab\"/></a>"
      ]
    },
    {
      "cell_type": "markdown",
      "source": [
        "# 🔵 Introduccion  🌵\n",
        "\n",
        "1.-Repaso de programación.\n",
        "\n",
        "2.-Programación AI\n",
        "\n",
        "3.- Programacion para el proyecto"
      ],
      "metadata": {
        "id": "ACa76mX7CtoR"
      }
    },
    {
      "cell_type": "code",
      "execution_count": null,
      "metadata": {
        "id": "z_0d8ZrpCrX9"
      },
      "outputs": [],
      "source": [
        "print(\"-----------------------------------\")\n",
        "print(\"Starbucks\")\n",
        "print(\"-----------------------------------\")\n",
        "\n",
        "tamaño = input(\"ELige el tamaño de tu bebida ? S, M o G \") #variable que guarda el tamaño de tu bebida se ocupa la funcion input()\n",
        "extra_leche = input(\"quieres leche exta? S o N \")\n",
        "pan = input(\"quieres un pan? S o N \")\n",
        "precio = 0 #contador que empieza con el valor de 0 que almacena el precio de tu pedido \n",
        "\n",
        "#Seleccionando tamaño  #ocupamos un condicional if con multiples opciones\n",
        "if tamaño == \"S\":\n",
        "    precio = 40\n",
        "elif tamaño == \"M\":\n",
        "    precio =  50\n",
        "elif tamaño == \"G\":\n",
        "    precio  = 60\n",
        "\n",
        "#aagregando leche extra\n",
        "if tamaño == \"S\" and extra_leche == \"S\":\n",
        "    precio += 2\n",
        "elif tamaño == \"M\" or \"L\" and extra_leche == \"S\":\n",
        "    precio += 3\n",
        "\n",
        "#agregando el pan\n",
        "if pan == \"S\":\n",
        "    precio += 1\n",
        "\n",
        "print(f\"Tu cuenta total es: ${precio}.\")"
      ]
    },
    {
      "cell_type": "markdown",
      "source": [
        "# AI programación ⏰"
      ],
      "metadata": {
        "id": "n-HH8MsIMgEQ"
      }
    },
    {
      "cell_type": "code",
      "source": [
        "!pip install tensorflow\n",
        "!pip install kaggle"
      ],
      "metadata": {
        "id": "BOgnukobMfuk"
      },
      "execution_count": null,
      "outputs": []
    },
    {
      "cell_type": "markdown",
      "source": [
        "Un framework es un conjunto de herramientas, bibliotecas y componentes predefinidos que proporcionan una estructura y funcionalidades para desarrollar aplicaciones de software.\n",
        "\n",
        "Dependiendo lo que quieras hacer es la framework que utlizas.\n",
        "\n",
        "en este ejemplo  instalamos tensorflow que es un framework que tiene bibliotecas de inteligencia artifial que utlizaremos para nuestro desarrollo,por otro lado tambien instalamos kaggle que es una pagina para data sscientist y contiene data sets,para utlizar las funciones de ambas librerias las tuvimos que instalar primero."
      ],
      "metadata": {
        "id": "_kfFhl_TOA6V"
      }
    },
    {
      "cell_type": "code",
      "source": [
        "from google.colab import files #de las librerias importamos a nuestro codigo la funcion de files\n",
        "\n",
        "uploaded = files.upload() #puedes subir archivos "
      ],
      "metadata": {
        "id": "jTFeH6Z7PlF4"
      },
      "execution_count": null,
      "outputs": []
    },
    {
      "cell_type": "code",
      "source": [
        "import os\n",
        "\n",
        "os.environ['KAGGLE_CONFIG_DIR'] = '/content' # al importar las credenciales de kaggle les damos un lugar en nuestro archivo donde se guarden"
      ],
      "metadata": {
        "id": "MSC8zHlJP61M"
      },
      "execution_count": null,
      "outputs": []
    },
    {
      "cell_type": "code",
      "source": [
        " #al tener ya instalada cualquier libreria podemos usar ya sus funciones\n",
        "import tensorflow as tf  #Creación y entrenamiento de modelos de aprendizaje automático: \n",
        "import os #nos proporciona funciones para trabajar con rutas de archivo y directorio, como unir rutas, obtener nombres de archivo, comprobar la existencia de archivos/directorios, crear directorios, cambiar el directorio de trabajo, etc.\n",
        "import kaggle #Descarga de conjuntos de datos de Kaggle: La biblioteca kaggle\n",
        "\n"
      ],
      "metadata": {
        "id": "nR7wC3bKO62T"
      },
      "execution_count": null,
      "outputs": []
    },
    {
      "cell_type": "code",
      "source": [
        "\n",
        "from google.colab import files\n",
        "\n",
        "# Crea un directorio para almacenar las credenciales de Kaggle\n",
        "os.makedirs('/content', exist_ok=True)\n",
        "\n",
        "# Sube el archivo JSON de las credenciales\n",
        "uploaded = files.upload()\n",
        "\n",
        "# Mueve el archivo JSON al directorio adecuado\n",
        "os.rename(list(uploaded.keys())[0], '/content/kaggle.json')\n",
        "\n",
        "# Establece los permisos correctos para el archivo JSON\n",
        "os.chmod('/content/kaggle.json', 600)"
      ],
      "metadata": {
        "colab": {
          "base_uri": "https://localhost:8080/",
          "height": 73
        },
        "id": "MG_V1qeMRWtl",
        "outputId": "3d090905-2c2c-47bc-fc05-3d92a77623d0"
      },
      "execution_count": null,
      "outputs": [
        {
          "output_type": "display_data",
          "data": {
            "text/plain": [
              "<IPython.core.display.HTML object>"
            ],
            "text/html": [
              "\n",
              "     <input type=\"file\" id=\"files-9e0659db-36e0-4348-a70f-fc2ab8866e7d\" name=\"files[]\" multiple disabled\n",
              "        style=\"border:none\" />\n",
              "     <output id=\"result-9e0659db-36e0-4348-a70f-fc2ab8866e7d\">\n",
              "      Upload widget is only available when the cell has been executed in the\n",
              "      current browser session. Please rerun this cell to enable.\n",
              "      </output>\n",
              "      <script>// Copyright 2017 Google LLC\n",
              "//\n",
              "// Licensed under the Apache License, Version 2.0 (the \"License\");\n",
              "// you may not use this file except in compliance with the License.\n",
              "// You may obtain a copy of the License at\n",
              "//\n",
              "//      http://www.apache.org/licenses/LICENSE-2.0\n",
              "//\n",
              "// Unless required by applicable law or agreed to in writing, software\n",
              "// distributed under the License is distributed on an \"AS IS\" BASIS,\n",
              "// WITHOUT WARRANTIES OR CONDITIONS OF ANY KIND, either express or implied.\n",
              "// See the License for the specific language governing permissions and\n",
              "// limitations under the License.\n",
              "\n",
              "/**\n",
              " * @fileoverview Helpers for google.colab Python module.\n",
              " */\n",
              "(function(scope) {\n",
              "function span(text, styleAttributes = {}) {\n",
              "  const element = document.createElement('span');\n",
              "  element.textContent = text;\n",
              "  for (const key of Object.keys(styleAttributes)) {\n",
              "    element.style[key] = styleAttributes[key];\n",
              "  }\n",
              "  return element;\n",
              "}\n",
              "\n",
              "// Max number of bytes which will be uploaded at a time.\n",
              "const MAX_PAYLOAD_SIZE = 100 * 1024;\n",
              "\n",
              "function _uploadFiles(inputId, outputId) {\n",
              "  const steps = uploadFilesStep(inputId, outputId);\n",
              "  const outputElement = document.getElementById(outputId);\n",
              "  // Cache steps on the outputElement to make it available for the next call\n",
              "  // to uploadFilesContinue from Python.\n",
              "  outputElement.steps = steps;\n",
              "\n",
              "  return _uploadFilesContinue(outputId);\n",
              "}\n",
              "\n",
              "// This is roughly an async generator (not supported in the browser yet),\n",
              "// where there are multiple asynchronous steps and the Python side is going\n",
              "// to poll for completion of each step.\n",
              "// This uses a Promise to block the python side on completion of each step,\n",
              "// then passes the result of the previous step as the input to the next step.\n",
              "function _uploadFilesContinue(outputId) {\n",
              "  const outputElement = document.getElementById(outputId);\n",
              "  const steps = outputElement.steps;\n",
              "\n",
              "  const next = steps.next(outputElement.lastPromiseValue);\n",
              "  return Promise.resolve(next.value.promise).then((value) => {\n",
              "    // Cache the last promise value to make it available to the next\n",
              "    // step of the generator.\n",
              "    outputElement.lastPromiseValue = value;\n",
              "    return next.value.response;\n",
              "  });\n",
              "}\n",
              "\n",
              "/**\n",
              " * Generator function which is called between each async step of the upload\n",
              " * process.\n",
              " * @param {string} inputId Element ID of the input file picker element.\n",
              " * @param {string} outputId Element ID of the output display.\n",
              " * @return {!Iterable<!Object>} Iterable of next steps.\n",
              " */\n",
              "function* uploadFilesStep(inputId, outputId) {\n",
              "  const inputElement = document.getElementById(inputId);\n",
              "  inputElement.disabled = false;\n",
              "\n",
              "  const outputElement = document.getElementById(outputId);\n",
              "  outputElement.innerHTML = '';\n",
              "\n",
              "  const pickedPromise = new Promise((resolve) => {\n",
              "    inputElement.addEventListener('change', (e) => {\n",
              "      resolve(e.target.files);\n",
              "    });\n",
              "  });\n",
              "\n",
              "  const cancel = document.createElement('button');\n",
              "  inputElement.parentElement.appendChild(cancel);\n",
              "  cancel.textContent = 'Cancel upload';\n",
              "  const cancelPromise = new Promise((resolve) => {\n",
              "    cancel.onclick = () => {\n",
              "      resolve(null);\n",
              "    };\n",
              "  });\n",
              "\n",
              "  // Wait for the user to pick the files.\n",
              "  const files = yield {\n",
              "    promise: Promise.race([pickedPromise, cancelPromise]),\n",
              "    response: {\n",
              "      action: 'starting',\n",
              "    }\n",
              "  };\n",
              "\n",
              "  cancel.remove();\n",
              "\n",
              "  // Disable the input element since further picks are not allowed.\n",
              "  inputElement.disabled = true;\n",
              "\n",
              "  if (!files) {\n",
              "    return {\n",
              "      response: {\n",
              "        action: 'complete',\n",
              "      }\n",
              "    };\n",
              "  }\n",
              "\n",
              "  for (const file of files) {\n",
              "    const li = document.createElement('li');\n",
              "    li.append(span(file.name, {fontWeight: 'bold'}));\n",
              "    li.append(span(\n",
              "        `(${file.type || 'n/a'}) - ${file.size} bytes, ` +\n",
              "        `last modified: ${\n",
              "            file.lastModifiedDate ? file.lastModifiedDate.toLocaleDateString() :\n",
              "                                    'n/a'} - `));\n",
              "    const percent = span('0% done');\n",
              "    li.appendChild(percent);\n",
              "\n",
              "    outputElement.appendChild(li);\n",
              "\n",
              "    const fileDataPromise = new Promise((resolve) => {\n",
              "      const reader = new FileReader();\n",
              "      reader.onload = (e) => {\n",
              "        resolve(e.target.result);\n",
              "      };\n",
              "      reader.readAsArrayBuffer(file);\n",
              "    });\n",
              "    // Wait for the data to be ready.\n",
              "    let fileData = yield {\n",
              "      promise: fileDataPromise,\n",
              "      response: {\n",
              "        action: 'continue',\n",
              "      }\n",
              "    };\n",
              "\n",
              "    // Use a chunked sending to avoid message size limits. See b/62115660.\n",
              "    let position = 0;\n",
              "    do {\n",
              "      const length = Math.min(fileData.byteLength - position, MAX_PAYLOAD_SIZE);\n",
              "      const chunk = new Uint8Array(fileData, position, length);\n",
              "      position += length;\n",
              "\n",
              "      const base64 = btoa(String.fromCharCode.apply(null, chunk));\n",
              "      yield {\n",
              "        response: {\n",
              "          action: 'append',\n",
              "          file: file.name,\n",
              "          data: base64,\n",
              "        },\n",
              "      };\n",
              "\n",
              "      let percentDone = fileData.byteLength === 0 ?\n",
              "          100 :\n",
              "          Math.round((position / fileData.byteLength) * 100);\n",
              "      percent.textContent = `${percentDone}% done`;\n",
              "\n",
              "    } while (position < fileData.byteLength);\n",
              "  }\n",
              "\n",
              "  // All done.\n",
              "  yield {\n",
              "    response: {\n",
              "      action: 'complete',\n",
              "    }\n",
              "  };\n",
              "}\n",
              "\n",
              "scope.google = scope.google || {};\n",
              "scope.google.colab = scope.google.colab || {};\n",
              "scope.google.colab._files = {\n",
              "  _uploadFiles,\n",
              "  _uploadFilesContinue,\n",
              "};\n",
              "})(self);\n",
              "</script> "
            ]
          },
          "metadata": {}
        },
        {
          "output_type": "stream",
          "name": "stdout",
          "text": [
            "Saving kaggle.json to kaggle.json\n"
          ]
        }
      ]
    },
    {
      "cell_type": "code",
      "source": [
        "!kaggle datasets download -d samuelcortinhas/cats-and-dogs-image-classification\n",
        "#aqui descargamos la dataset que vamos a usar para nuestro entrenamiento\n",
        "#tambien podemos crear nuestras propias datasets\n"
      ],
      "metadata": {
        "id": "IPcxFlYERjc5"
      },
      "execution_count": null,
      "outputs": []
    },
    {
      "cell_type": "markdown",
      "source": [
        "https://www.kaggle.com/datasets/samuelcortinhas/cats-and-dogs-image-classification"
      ],
      "metadata": {
        "id": "tTY20QgmWs-K"
      }
    },
    {
      "cell_type": "code",
      "source": [
        "!unzip cats-and-dogs-image-classification.zip\n",
        "#lo unzipamos "
      ],
      "metadata": {
        "id": "DMZ3VPgxSNee"
      },
      "execution_count": null,
      "outputs": []
    },
    {
      "cell_type": "code",
      "source": [
        "!ls"
      ],
      "metadata": {
        "colab": {
          "base_uri": "https://localhost:8080/"
        },
        "id": "IzSRGsBuS_N6",
        "outputId": "f2b9686b-8250-4444-ad71-d4f96a72dc06"
      },
      "execution_count": null,
      "outputs": [
        {
          "output_type": "stream",
          "name": "stdout",
          "text": [
            " cats-and-dogs-image-classification.zip   kaggle.json   test\n",
            "'kaggle (1).json'\t\t\t  sample_data   train\n"
          ]
        }
      ]
    },
    {
      "cell_type": "code",
      "source": [
        "!pwd"
      ],
      "metadata": {
        "colab": {
          "base_uri": "https://localhost:8080/"
        },
        "id": "EIQqDIkiTF_i",
        "outputId": "f53dbe40-d3f6-4e5a-e512-1a90e19e7652"
      },
      "execution_count": null,
      "outputs": [
        {
          "output_type": "stream",
          "name": "stdout",
          "text": [
            "/content\n"
          ]
        }
      ]
    },
    {
      "cell_type": "code",
      "source": [
        "import tensorflow as tf\n",
        "from tensorflow.keras.preprocessing.image import ImageDataGenerator\n",
        "from tensorflow.keras.layers import Conv2D, MaxPooling2D, Flatten, Dense\n",
        "from tensorflow.keras.models import Sequential\n",
        "\n"
      ],
      "metadata": {
        "id": "Yf3J0R5ATzXT"
      },
      "execution_count": null,
      "outputs": []
    },
    {
      "cell_type": "markdown",
      "source": [
        " 🥭 ImageDataGenerator (de tensorflow.keras.preprocessing.image):\n",
        "Esta clase permite generar un flujo de datos de imágenes con diversas transformaciones y aumentos de datos, como rescalado, rotación, zoom, volteo horizontal, etc. Es muy útil para la preparación de conjuntos de datos de imágenes para su uso en modelos de aprendizaje automático.\n",
        "\n",
        "🥭Conv2D (de tensorflow.keras.layers):\n",
        "Esta capa representa una convolución 2D en una red neuronal convolucional. La convolución 2D se utiliza para extraer características de las imágenes mediante el deslizamiento de un filtro (kernel) sobre la imagen y realizando operaciones de multiplicación y suma. Es una de las operaciones fundamentales en el procesamiento de imágenes.\n",
        "\n",
        "🥭MaxPooling2D (de tensorflow.keras.layers):\n",
        "Esta capa realiza un submuestreo de las características extraídas por las capas de convolución, reduciendo la dimensión espacial de la representación de la imagen. Ayuda a reducir el costo computacional y a extraer las características más importantes.\n",
        "\n",
        "🥭Flatten (de tensorflow.keras.layers):\n",
        "Esta capa se utiliza para aplanar los datos de entrada. Transforma una matriz multidimensional en un vector unidimensional, lo cual es necesario antes de conectar una capa densa (totalmente conectada) en la red neuronal.\n",
        "\n",
        "🥭Dense (de tensorflow.keras.layers):\n",
        "Esta capa representa una capa densa o totalmente conectada en una red neuronal. Cada neurona de esta capa está conectada a todas las neuronas de la capa anterior y realiza operaciones de multiplicación y suma ponderadas. Es comúnmente utilizada en la etapa final de una red neuronal para realizar la clasificación o la regresión.\n",
        "\n",
        "🥭Sequential (de tensorflow.keras.models):\n",
        "Esta clase representa un modelo secuencial de redes neuronales en Keras. Se utiliza para crear modelos de redes neuronales en los que las capas se apilan de forma secuencial, una tras otra. Es una forma sencilla y común de construir modelos en Keras."
      ],
      "metadata": {
        "id": "iAKRx2EQYAyO"
      }
    },
    {
      "cell_type": "code",
      "source": [
        "\n",
        "# Directorio en el que se descomprimió el conjunto de datos\n",
        "directorio_del_conjunto_de_datos = '/content'\n",
        "\n",
        "# Crear un generador de datos utilizando el conjunto de datos descomprimido\n",
        "data_generator = tf.keras.preprocessing.image.ImageDataGenerator(preprocessing_function=tf.keras.applications.resnet50.preprocess_input)\n",
        "\n",
        "# Cargar el conjunto de datos desde el directorio\n",
        "dataset = data_generator.flow_from_directory(directorio_del_conjunto_de_datos, target_size=(224, 224), batch_size=32, class_mode='binary')"
      ],
      "metadata": {
        "colab": {
          "base_uri": "https://localhost:8080/"
        },
        "id": "njy4q3_WQ28m",
        "outputId": "591c9d12-1298-484a-dc6e-fac3bb25a488"
      },
      "execution_count": null,
      "outputs": [
        {
          "output_type": "stream",
          "name": "stdout",
          "text": [
            "Found 697 images belonging to 4 classes.\n"
          ]
        }
      ]
    },
    {
      "cell_type": "code",
      "source": [
        "# Obtener las clases encontradas en el conjunto de datos\n",
        "clases = dataset.class_indices\n",
        "\n",
        "# Imprimir las clases encontradas\n",
        "print(\"Clases encontradas:\")\n",
        "for clase, indice in clases.items():\n",
        "    print(f\"- {clase}: {indice}\")"
      ],
      "metadata": {
        "id": "L1EPdpjeSKq8"
      },
      "execution_count": null,
      "outputs": []
    },
    {
      "cell_type": "code",
      "source": [
        "\n",
        "data_generator = ImageDataGenerator(rescale=1./255, validation_split=0.2)\n",
        "# Creamos un generador de datos de imágenes con las siguientes configuraciones:\n",
        "# - Rescale: Normalizamos los valores de los píxeles en el rango [0, 1].\n",
        "# - Validation_split: Separación del conjunto de datos en entrenamiento (80%) y validación (20%).\n",
        "\n",
        "\n",
        "\n",
        "\n",
        "\n",
        "# Creamos el conjunto de datos de entrenamiento utilizando el generador de datos.\n",
        "# - directorio_del_conjunto_de_datos: Ruta al directorio que contiene las imágenes clasificadas en subdirectorios.\n",
        "# - target_size: Tamaño al que se redimensionarán todas las imágenes (224x224 en este caso).\n",
        "# - batch_size: Número de muestras de imágenes que se generan en cada iteración (32 en este caso).\n",
        "# - class_mode: Modo de clasificación utilizado (categorical en este caso, para clasificación multiclase).\n",
        "# - subset: Subconjunto utilizado para entrenamiento (en este caso, se utiliza el subconjunto de entrenamiento).\n",
        "train_dataset = data_generator.flow_from_directory(directorio_del_conjunto_de_datos, target_size=(224, 224), batch_size=32, class_mode='categorical', subset='training')\n",
        "\n",
        "\n",
        "\n",
        "# Creamos el conjunto de datos de validación utilizando el generador de datos.\n",
        "# - directorio_del_conjunto_de_datos: Ruta al directorio que contiene las imágenes clasificadas en subdirectorios.\n",
        "# - target_size: Tamaño al que se redimensionarán todas las imágenes (224x224 en este caso).\n",
        "# - batch_size: Número de muestras de imágenes que se generan en cada iteración (32 en este caso).\n",
        "# - class_mode: Modo de clasificación utilizado (categorical en este caso, para clasificación multiclase).\n",
        "# - subset: Subconjunto utilizado para validación (en este caso, se utiliza el subconjunto de validación).\n",
        "\n",
        "\n",
        "validation_dataset = data_generator.flow_from_directory(directorio_del_conjunto_de_datos, target_size=(224, 224), batch_size=32, class_mode='categorical', subset='validation')"
      ],
      "metadata": {
        "id": "InsjdcGwT9ra"
      },
      "execution_count": null,
      "outputs": []
    },
    {
      "cell_type": "code",
      "source": [
        "model = Sequential()# Creamos un modelo secuencial, que es una pila lineal de capas.\n",
        "\n",
        "\n",
        "#Agregamos una capa de convolución con 32 filtros, un tamaño de filtro de 3x3 y la función de activación 'relu'.\n",
        "# -input_shape: Especificamos la forma de entrada de las imágenes (224x224 píxeles en 3 canales de color).\n",
        "model.add(Conv2D(32, (3, 3), activation='relu', input_shape=(224, 224, 3)))\n",
        "# Agregamos una capa de agrupación máxima (MaxPooling) con un tamaño de ventana de 2x2.\n",
        "model.add(MaxPooling2D((2, 2)))\n",
        "model.add(Conv2D(64, (3, 3), activation='relu'))\n",
        "model.add(MaxPooling2D((2, 2)))\n",
        "model.add(Conv2D(128, (3, 3), activation='relu'))\n",
        "model.add(MaxPooling2D((2, 2)))\n",
        "\n",
        "# Aplanamos la salida de las capas anteriores en un vector unidimensional.\n",
        "model.add(Flatten())\n",
        "\n",
        "# Agregamos una capa completamente conectada (Dense) con 128 unidades y la función de activación 'relu'.\n",
        "model.add(Dense(128, activation='relu'))\n",
        "\n",
        "\n",
        "\n",
        "# Agregamos una capa completamente conectada (Dense) con un número de unidades igual al número de clases en el conjunto de datos de entrenamiento.\n",
        "# - train_dataset.num_classes: Número de clases en el conjunto de datos de entrenamiento.\n",
        "# - activation: Utilizamos la función de activación 'softmax' para obtener probabilidades de clasificación para cada clase.\n",
        "model.add(Dense(train_dataset.num_classes, activation='softmax'))"
      ],
      "metadata": {
        "id": "A1CP-QOJUIMk"
      },
      "execution_count": null,
      "outputs": []
    },
    {
      "cell_type": "markdown",
      "source": [
        "![image.png](data:image/png;base64,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)"
      ],
      "metadata": {
        "id": "P-gqO5PQgFsf"
      }
    },
    {
      "cell_type": "code",
      "source": [
        "# Compilar y entrenar el modelo\n",
        "model.compile(optimizer='adam', loss='categorical_crossentropy', metrics=['accuracy'])\n",
        "model.fit(train_dataset, validation_data=validation_dataset, epochs=10)"
      ],
      "metadata": {
        "id": "uvTZziygULYY"
      },
      "execution_count": null,
      "outputs": []
    },
    {
      "cell_type": "code",
      "source": [
        "test_loss, test_accuracy = model.evaluate(validation_dataset)\n",
        "print('Precisión en el conjunto de datos de prueba:', test_accuracy)"
      ],
      "metadata": {
        "id": "mrzXDXy5ZoQ6"
      },
      "execution_count": null,
      "outputs": []
    },
    {
      "cell_type": "markdown",
      "source": [
        "## 🐐 MicroPython 🐐"
      ],
      "metadata": {
        "id": "TqSXvMoPLLqR"
      }
    },
    {
      "cell_type": "code",
      "source": [
        "pip install pyserial"
      ],
      "metadata": {
        "id": "7OiCYBwPLPxF"
      },
      "execution_count": null,
      "outputs": []
    },
    {
      "cell_type": "code",
      "source": [
        "import serial\n",
        "import time\n",
        "\n",
        "# Configuración de la conexión UART\n",
        "uart = serial.Serial('/dev/ttyAMA0', 9600)  # Cambia '/dev/ttyAMA0' por el puerto UART correspondiente en tu Raspberry Pi Pico\n",
        "uart.timeout = 1  # Tiempo de espera para la lectura de datos\n",
        "\n",
        "while True:\n",
        "    # Leer los datos a enviar desde el Raspberry Pi Pico\n",
        "    temperatura = 25  # Ejemplo: temperatura a enviar\n",
        "\n",
        "    # Convertir los datos en una cadena de texto\n",
        "    datos_enviar = str(temperatura) + '\\n'  # Agregar '\\n' para indicar el final de los datos\n",
        "\n",
        "    # Enviar los datos a través de UART\n",
        "    uart.write(datos_enviar.encode())\n",
        "\n",
        "    # Esperar una respuesta del Arduino Mega\n",
        "    respuesta = uart.readline().decode().strip()\n",
        "\n",
        "    # Imprimir la respuesta recibida\n",
        "    print('Respuesta del Arduino Mega:', respuesta)\n",
        "\n",
        "    time.sleep(1)  # Esperar 1 segundo antes de enviar más datos"
      ],
      "metadata": {
        "id": "vRRh3NysML-q"
      },
      "execution_count": null,
      "outputs": []
    },
    {
      "cell_type": "code",
      "source": [
        "import machine\n",
        "import utime\n",
        "import dht\n",
        "\n",
        "uart = machine.UART(0, baudrate=9600, tx=machine.Pin(0), rx=machine.Pin(1))  # Configura UART en los pines GPIO0 (TX) y GPIO1 (RX)\n",
        "sensor = dht.DHT11(machine.Pin(2))  # Conecta el sensor de temperatura y humedad DHT11 al pin GPIO2\n",
        "\n",
        "def read_temperature():\n",
        "    sensor.measure()  # Realiza una lectura del sensor de temperatura y humedad\n",
        "    temperature = sensor.temperature()  # Obtiene la temperatura en grados Celsius\n",
        "    return temperature\n",
        "\n",
        "while True:\n",
        "    temperature = read_temperature()  # Lee la temperatura del sensor\n",
        "\n",
        "    # Convierte la temperatura en una cadena de texto y envíala a través de UART\n",
        "    uart.write(str(temperature))\n",
        "\n",
        "    utime.sleep(1)  # Espera 1 segundo antes de enviar más datos\n"
      ],
      "metadata": {
        "id": "eKM6SaMKMaeY"
      },
      "execution_count": null,
      "outputs": []
    }
  ]
}